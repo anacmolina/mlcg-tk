{
 "cells": [
  {
   "cell_type": "code",
   "execution_count": null,
   "metadata": {},
   "outputs": [],
   "source": [
    "import matplotlib.pyplot as plt\n",
    "import numpy as np\n",
    "import os\n",
    "import pickle as pkl\n",
    "import sys\n",
    "import torch\n",
    "from typing import Optional\n",
    "\n",
    "from mlcg.nn import SumOut\n",
    "\n",
    "sys.path.insert(0, os.path.join(\"../..\"))\n",
    "from input_generator.prior_gen import PriorBuilder\n",
    "from prior_tools import symmetrized_keys_generator, optimal_offset, prior_evaluator"
   ]
  },
  {
   "cell_type": "code",
   "execution_count": null,
   "metadata": {},
   "outputs": [],
   "source": [
    "plots_path = \"./temp_figs\"\n",
    "if not os.path.isdir(plots_path):\n",
    "    os.mkdir(plots_path)\n",
    "# select the temperature for your simulations\n",
    "temperature = 300\n",
    "kB = 0.0019872041  # kcal/(mol⋅K)\n",
    "beta = 1 / (temperature * kB)"
   ]
  },
  {
   "cell_type": "code",
   "execution_count": null,
   "metadata": {},
   "outputs": [],
   "source": [
    "prior_model = torch.load(\"./prior_model_example.pt\")"
   ]
  },
  {
   "cell_type": "code",
   "execution_count": null,
   "metadata": {},
   "outputs": [],
   "source": [
    "with open(\"./prior_builders_example.pck\", \"rb\") as f:\n",
    "    prior_builders = pkl.load(f)"
   ]
  },
  {
   "cell_type": "code",
   "execution_count": null,
   "metadata": {},
   "outputs": [],
   "source": [
    "for idx, prior_bldr in enumerate(prior_builders):\n",
    "    print(f\"Index: {idx}, prior builder: {prior_bldr.name}\")"
   ]
  },
  {
   "cell_type": "code",
   "execution_count": null,
   "metadata": {},
   "outputs": [],
   "source": [
    "def basic_prior_visual_inspection(\n",
    "    prior_bldr: PriorBuilder,\n",
    "    prior_model: SumOut,\n",
    "    beta: float,\n",
    "    xlims = tuple[float,float],\n",
    "    savedir: Optional[str] = None,\n",
    "    n_max_figs: Optional[int] = None,\n",
    "):\n",
    "    r\"\"\"\n",
    "    Function to plot the free energy distribution compared to the prior curve \n",
    "    \n",
    "    This function will plot the comparison between the free energy distribution\n",
    "    and the prior fit that should match it for every bead combination that was \n",
    "    found for the fit. The purpose of this function is to exemplify how to \n",
    "    extract the histograms fro the prior builder and how to correctly \n",
    "    compare this to the prior.\n",
    "\n",
    "    Normally the bead combinations are too many to be analyzed on a one-by-one basis.\n",
    "    This function can easily modified to filter the histograms and only plot the ones\n",
    "    that fail according to some criteria \n",
    "\n",
    "\n",
    "    Parameters\n",
    "    ----------\n",
    "\n",
    "    prior_bldr:\n",
    "        PriorBuilder object from which we will get the histograms\n",
    "    prior_model:\n",
    "        Prior as a mlcg.nn.SumOut object. It must contain a module whose name\n",
    "        coincides with the `prior_bldr` object\n",
    "    beta:\n",
    "        the inverse temperature (1/(KB*T)) in the energy units used by the prior model\n",
    "    xlims: \n",
    "        x-axis limits of the plots to be generated. This value depends on the prior type\n",
    "        to analyse and CG resolution.\n",
    "    savedir:\n",
    "        dictionary where to save every plot generated\n",
    "    n_max_figs:\n",
    "        maximum number of figures to plot.\n",
    "    \n",
    "    \"\"\"\n",
    "    name = prior_bldr.name\n",
    "    # getting statistics: \n",
    "    stats = prior_bldr.histograms.data[name]\n",
    "    # getting all  the bead combinations for which we collected statistics\n",
    "    keys = stats.keys()\n",
    "    # getting bin centers\n",
    "    bin_centers = prior_bldr.histograms.bin_centers\n",
    "    # generating the list of possible bead combinations respecting symmetries\n",
    "    unique_keys = symmetrized_keys_generator(len(list(keys)[0]))\n",
    "    # intersecting the keys to avoid duplicating plots\n",
    "    keys_list = [key for key in keys if key in unique_keys]\n",
    "    print(f\"Making plot for prior {name}\")\n",
    "    print(f\"found {len(keys)} keys ({len(keys_list)} of which are unique)\")\n",
    "    # get the prior module corresponding to this model\n",
    "    prior_module = prior_model.models[name].model\n",
    "    # this range controls how many different figures will we plot\n",
    "    counter = 0\n",
    "    for key, hist in stats.items():\n",
    "        if (counter % 25) ==0:\n",
    "            fig,axs = plt.subplots(ncols=5,nrows=5,sharex=True,figsize=(10,10),gridspec_kw={\"wspace\":0.3,\"hspace\":0.3})\n",
    "        mask = hist > 1e-1\n",
    "        dG = torch.tensor(-np.log(hist[mask])/beta)\n",
    "        xs_fit = bin_centers[mask]\n",
    "        ys_fit = dG\n",
    "        #fig,ax = plt.subplots()\n",
    "        ax = axs.ravel()[(counter % 25)]\n",
    "        ax.scatter(xs_fit,ys_fit)\n",
    "\n",
    "        prior_eval_at_fit_data = prior_evaluator(prior_module, key, bin_centers[mask])\n",
    "        offset=0\n",
    "        #offset = align_curves_vertical(ys_fit.numpy(),prior_eval_at_fit_data.numpy())\n",
    "        offset = optimal_offset(ys_fit.numpy(),prior_eval_at_fit_data.numpy())\n",
    "        full_prior_range = torch.linspace(xlims[0],xlims[1],201)\n",
    "        \n",
    "        #prior_eval_at_full_range = Polynomial.compute(torch.tensor(full_prior_range),ks,v_0) + offset\n",
    "        prior_eval_at_full_range = prior_evaluator(prior_module,key,full_prior_range) + offset\n",
    "        ax.plot(full_prior_range, prior_eval_at_full_range,color=\"red\")\n",
    "\n",
    "        x1 = bin_centers[mask][0]\n",
    "        x2 = bin_centers[mask][-1]\n",
    "        y1 = ys_fit.min()\n",
    "        y2 = ys_fit.max()\n",
    "        axins = ax.inset_axes((0.25,0.4,0.4,0.5),xlim=(x1,x2),ylim=(y1,y2))\n",
    "        axins.scatter(xs_fit,ys_fit)\n",
    "        axins.plot(full_prior_range,prior_eval_at_full_range,color=\"red\")\n",
    "        axins.tick_params(axis='both', which='both',labelsize=6)\n",
    "        ax.set_xlim(*xlims)\n",
    "        #axins.set_xlim(*xlims)\n",
    "        ax.indicate_inset_zoom(axins,edgecolor=\"black\")\n",
    "        ax.set_title(f\"key: {key}\")\n",
    "        if (counter % 5 )==0:\n",
    "            ax.set_ylabel(\"FE (kcal/mol)\")\n",
    "        if (counter // 5) ==4:\n",
    "            ax.set_xlabel(f\"{name} value\")\n",
    "        counter += 1\n",
    "        if (counter % 25) ==0 or counter == (len(stats)):\n",
    "            plot_num = int(np.ceil(counter/25))\n",
    "            fig.suptitle(f\"Prior {name}, Plot {plot_num}\",y=0.92)\n",
    "            if savedir is not None:\n",
    "                plt.savefig(f\"{savedir}/{name}_{plot_num}.png\", dpi=200)\n",
    "            plt.show()\n",
    "        if n_max_figs is not None and  counter//25 >= n_max_figs:\n",
    "            break\n",
    "        "
   ]
  },
  {
   "cell_type": "code",
   "execution_count": null,
   "metadata": {},
   "outputs": [],
   "source": [
    "basic_prior_visual_inspection(\n",
    "    prior_bldr = prior_builders[0],\n",
    "    prior_model=prior_model,\n",
    "    beta=beta,\n",
    "    xlims=(2.5,4.5),\n",
    "    n_max_figs=2,\n",
    "    savedir=plots_path,\n",
    ")"
   ]
  },
  {
   "cell_type": "code",
   "execution_count": null,
   "metadata": {},
   "outputs": [],
   "source": [
    "basic_prior_visual_inspection(\n",
    "    prior_bldr = prior_builders[1],\n",
    "    prior_model=prior_model,\n",
    "    beta=beta,\n",
    "    xlims=(-1.1,1.1),\n",
    "    n_max_figs=2,\n",
    "    savedir=plots_path,\n",
    ")"
   ]
  },
  {
   "cell_type": "code",
   "execution_count": null,
   "metadata": {},
   "outputs": [],
   "source": [
    "basic_prior_visual_inspection(\n",
    "    prior_bldr = prior_builders[2],\n",
    "    prior_model=prior_model,\n",
    "    beta=beta,\n",
    "    xlims=(2,7),\n",
    "    n_max_figs=1,\n",
    "    savedir=plots_path,\n",
    ")"
   ]
  },
  {
   "cell_type": "code",
   "execution_count": null,
   "metadata": {},
   "outputs": [],
   "source": [
    "def compare_2d_tensors(target,ref,cm=\"viridis\"):\n",
    "    r\"\"\"Function to compare two 2D tensors using a heatmap\n",
    "\n",
    "    Useful for comparing the value between two sigmas in different nonbonded-fits,\n",
    "    the reference can also be just arbitrary. A heatmap will be plotted for the \n",
    "    difference between the target and the difference.\n",
    "\n",
    "    Parameters:\n",
    "    -----------\n",
    "    target:\n",
    "        2D array (numpy,torch) that we want to examine\n",
    "    reference:\n",
    "        2D array (numpy,torch) that can serve as a baseline for the values of target\n",
    "    cm:\n",
    "        Matplotlib colormap name to plot the heatmaps\n",
    "    \"\"\"\n",
    "    fig,axs = plt.subplots(nrows=1,ncols=3,sharex=True,sharey=True,figsize=(10,4))\n",
    "    a = min(target.min(),ref.min())\n",
    "    b = max(target.max(),ref.max())\n",
    "    cmap = plt.get_cmap(cm)\n",
    "    im_target = axs[0].imshow(target,vmin=a,vmax=b,cmap=cmap)\n",
    "    axs[0].set_title(\"Target\")\n",
    "    im_ref = axs[1].imshow(ref,vmin=a,vmax=b,cmap=cmap)\n",
    "    axs[1].set_title(\"Reference\")\n",
    "    cbar = fig.colorbar(im_ref,ax=axs[0:2],orientation=\"vertical\",shrink=0.6,pad=0.03)\n",
    "    diff = target-ref\n",
    "    diff_range = abs(diff).max()\n",
    "    mean_diff = diff[diff != 0 ].mean()\n",
    "    im_diff = axs[2].imshow(diff,vmin=-diff_range,vmax=diff_range,cmap=\"bwr\")\n",
    "    axs[2].set_title(f\"Difference, mean: {mean_diff:0.2f}\")\n",
    "    fig.colorbar(im_diff,ax=axs[2:3],orientation=\"vertical\",shrink=0.6,pad=0.03)\n",
    "    return fig,axs"
   ]
  },
  {
   "cell_type": "code",
   "execution_count": null,
   "metadata": {},
   "outputs": [],
   "source": [
    "new_sigmas = prior_model.models[\"non_bonded\"].model.sigma"
   ]
  },
  {
   "cell_type": "code",
   "execution_count": null,
   "metadata": {},
   "outputs": [],
   "source": [
    "# we use zeros as the reference as we don't have anything to compare the prior to\n",
    "fig,axs = compare_2d_tensors(new_sigmas,torch.zeros(*new_sigmas.shape))"
   ]
  },
  {
   "cell_type": "code",
   "execution_count": null,
   "metadata": {},
   "outputs": [],
   "source": []
  }
 ],
 "metadata": {
  "kernelspec": {
   "display_name": "mlcg-torch21",
   "language": "python",
   "name": "python3"
  },
  "language_info": {
   "codemirror_mode": {
    "name": "ipython",
    "version": 3
   },
   "file_extension": ".py",
   "mimetype": "text/x-python",
   "name": "python",
   "nbconvert_exporter": "python",
   "pygments_lexer": "ipython3",
   "version": "3.11.6"
  }
 },
 "nbformat": 4,
 "nbformat_minor": 4
}
